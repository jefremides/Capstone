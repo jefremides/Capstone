{
 "cells": [
  {
   "cell_type": "markdown",
   "metadata": {},
   "source": [
    "## Capstone Ideas"
   ]
  },
  {
   "cell_type": "markdown",
   "metadata": {},
   "source": [
    "### Idea #1\n",
    "#### Formula 1 "
   ]
  },
  {
   "cell_type": "markdown",
   "metadata": {},
   "source": [
    "Formula 1 is a very data intensive sport.  During each race, 120 sensors on each car generate 3 GB of data, and 1,500 data points are generated each second.  \n",
    "Although proprietary information is not available by car, historical information is available dating back 70 years.  Track information, weather, practice, qualifying, pit stop and race day lap times are all available.\n",
    "The idea would be to build a model to forecast a race winner using all the factors leading up to a race."
   ]
  },
  {
   "cell_type": "markdown",
   "metadata": {},
   "source": [
    "#### Data source: https://fiaresultsandstatistics.motorsportstats.com/"
   ]
  },
  {
   "cell_type": "markdown",
   "metadata": {},
   "source": [
    "<br>\n",
    "<br>\n",
    "<br>"
   ]
  },
  {
   "cell_type": "markdown",
   "metadata": {},
   "source": [
    "### Idea #2"
   ]
  },
  {
   "cell_type": "markdown",
   "metadata": {},
   "source": [
    "#### Predictive model on price performance of equity offerings in the biotechnology space"
   ]
  },
  {
   "cell_type": "markdown",
   "metadata": {},
   "source": [
    "Biotechnology companies are serial raisers of money in the equity markets.  Share performance of an equity offering can vary widely and drilling into which factors play the biggest role in determining how a deal will act can be a tricky proposition.  Ideally, an analysis on the technical, fundamental, structural and clinical data available for each offering could offer insights into building a predictive model for short term, medium term and long term performance."
   ]
  },
  {
   "cell_type": "markdown",
   "metadata": {},
   "source": [
    "#### Data source:\n",
    "\n",
    "- Bloomberg terminal\n",
    "- Dealogic trial subscription\n",
    "- Yahoo finance API"
   ]
  },
  {
   "cell_type": "markdown",
   "metadata": {},
   "source": [
    "<br>\n",
    "<br>\n",
    "<br>"
   ]
  },
  {
   "cell_type": "markdown",
   "metadata": {},
   "source": [
    "### Idea #3"
   ]
  },
  {
   "cell_type": "markdown",
   "metadata": {},
   "source": [
    "#### Classifier to predict which time period a work of art was made in"
   ]
  },
  {
   "cell_type": "markdown",
   "metadata": {},
   "source": [
    "Art can be classified into eight major periods in western civilization. Ancient classical, Medieval,Renaissance, Neoclassic, Romantic, Modern art, and Contemporary.  Our analysis would aim to build a CNN capable of classifyin a work of art into what time period it originated in.  With over 45,000 digitally archived artworks, the National Gallery of Art in Washington, DC regularly update their featured image collections."
   ]
  },
  {
   "cell_type": "markdown",
   "metadata": {},
   "source": [
    "#### Data source: https://www.nga.gov/collection-search-result.html?classification=painting"
   ]
  },
  {
   "cell_type": "code",
   "execution_count": null,
   "metadata": {},
   "outputs": [],
   "source": []
  }
 ],
 "metadata": {
  "kernelspec": {
   "display_name": "Python 3",
   "language": "python",
   "name": "python3"
  },
  "language_info": {
   "codemirror_mode": {
    "name": "ipython",
    "version": 3
   },
   "file_extension": ".py",
   "mimetype": "text/x-python",
   "name": "python",
   "nbconvert_exporter": "python",
   "pygments_lexer": "ipython3",
   "version": "3.7.6"
  }
 },
 "nbformat": 4,
 "nbformat_minor": 4
}
