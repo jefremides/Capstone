{
 "cells": [
  {
   "cell_type": "markdown",
   "metadata": {},
   "source": [
    "## Capstone Check-in #2"
   ]
  },
  {
   "cell_type": "markdown",
   "metadata": {},
   "source": [
    "<br>"
   ]
  },
  {
   "cell_type": "markdown",
   "metadata": {},
   "source": [
    "### Project picked: "
   ]
  },
  {
   "cell_type": "markdown",
   "metadata": {},
   "source": [
    "Predictive model on price performance of equity offerings"
   ]
  },
  {
   "cell_type": "markdown",
   "metadata": {},
   "source": [
    "<br>"
   ]
  },
  {
   "cell_type": "markdown",
   "metadata": {},
   "source": [
    "### Problem statement:"
   ]
  },
  {
   "cell_type": "markdown",
   "metadata": {},
   "source": [
    "A number of factors can affect how the market reacts to news and the subsequent pricing and trading of an equity offering. This analysis will attempt to break down the importance of the technical, fundamental, and structural factors that are in play for any given offering while subsequently forecasting how an offering will trade over the course of one day, one week, and one month, and one year post-pricing.  "
   ]
  },
  {
   "cell_type": "markdown",
   "metadata": {},
   "source": [
    "<br>"
   ]
  },
  {
   "cell_type": "markdown",
   "metadata": {},
   "source": [
    "### Proposed methods and models:"
   ]
  },
  {
   "cell_type": "markdown",
   "metadata": {},
   "source": [
    "Time series data will be used for price information and other fundamental and technical factors. Linear regression and ARIMA models will be used to predict short term and longer term performance forecasts."
   ]
  },
  {
   "cell_type": "markdown",
   "metadata": {},
   "source": [
    "<br>"
   ]
  },
  {
   "cell_type": "markdown",
   "metadata": {},
   "source": [
    "### Risks and assumptions:"
   ]
  },
  {
   "cell_type": "markdown",
   "metadata": {},
   "source": [
    "A main assumption for our forecasting the performance of equity offerings is the assumption that and investor would receive an  allocation of stock at the offering price.  In reality this is not always the case, and investors/speculators would have to participate in the open market to gain exposure to the offering.  \n",
    "\n",
    "Risks include the lack of all available information that could be impacting the performance of an offering.  Also, there is a positive feedback loop inherent with buying or selling equities; the more the market buys or sells a particular stock, the more that action impacts the performance.\n",
    "\n",
    "Additionaly, we assume that all equities in our data set remain going concerns over the time periods forecasted."
   ]
  },
  {
   "cell_type": "markdown",
   "metadata": {},
   "source": [
    "<br>"
   ]
  },
  {
   "cell_type": "markdown",
   "metadata": {},
   "source": [
    "###  Goal revisions:"
   ]
  },
  {
   "cell_type": "markdown",
   "metadata": {},
   "source": [
    "Initially I wanted to look strictly at biotechnology companies that raise money, but the data set ended up not being large enough. I am still in the process of trying to add more data to the dataset, however, I'm not sure I will end up doing so."
   ]
  },
  {
   "cell_type": "markdown",
   "metadata": {},
   "source": [
    "<br>"
   ]
  },
  {
   "cell_type": "markdown",
   "metadata": {},
   "source": [
    "### Data sources:\n",
    "\n",
    "- Bloomberg terminal\n",
    "- Yahoo finance\n",
    "- SEC website\n",
    "- Finviz\n",
    "- https://github.com/secdatabase/SEC-XBRL-Financial-Statement-Dataset"
   ]
  },
  {
   "cell_type": "markdown",
   "metadata": {},
   "source": [
    "<br>"
   ]
  },
  {
   "cell_type": "markdown",
   "metadata": {},
   "source": [
    "### Preliminary EDA:"
   ]
  },
  {
   "cell_type": "code",
   "execution_count": 24,
   "metadata": {},
   "outputs": [],
   "source": [
    "import pandas as pd"
   ]
  },
  {
   "cell_type": "code",
   "execution_count": 25,
   "metadata": {},
   "outputs": [],
   "source": [
    "pd.set_option('display.max_columns', None)  "
   ]
  },
  {
   "cell_type": "code",
   "execution_count": 26,
   "metadata": {},
   "outputs": [],
   "source": [
    "df = pd.read_csv('./capstone_data.csv')"
   ]
  },
  {
   "cell_type": "code",
   "execution_count": 27,
   "metadata": {},
   "outputs": [
    {
     "data": {
      "text/html": [
       "<div>\n",
       "<style scoped>\n",
       "    .dataframe tbody tr th:only-of-type {\n",
       "        vertical-align: middle;\n",
       "    }\n",
       "\n",
       "    .dataframe tbody tr th {\n",
       "        vertical-align: top;\n",
       "    }\n",
       "\n",
       "    .dataframe thead th {\n",
       "        text-align: right;\n",
       "    }\n",
       "</style>\n",
       "<table border=\"1\" class=\"dataframe\">\n",
       "  <thead>\n",
       "    <tr style=\"text-align: right;\">\n",
       "      <th></th>\n",
       "      <th>symbol</th>\n",
       "      <th>primary_exchange_</th>\n",
       "      <th>bbg_prim_exch_symbol</th>\n",
       "      <th>short_name</th>\n",
       "      <th>industry_sector</th>\n",
       "      <th>industry_group</th>\n",
       "      <th>offering_type</th>\n",
       "      <th>pre/post</th>\n",
       "      <th>launch_date</th>\n",
       "      <th>px_date</th>\n",
       "      <th>start_date</th>\n",
       "      <th>book_build_\\ndays</th>\n",
       "      <th>uop</th>\n",
       "      <th>left_lead</th>\n",
       "      <th>active_book</th>\n",
       "      <th>co-managers</th>\n",
       "      <th>anncd_shares</th>\n",
       "      <th>priced_shares</th>\n",
       "      <th>upsize?</th>\n",
       "      <th>anncd_proceeds</th>\n",
       "      <th>pre_shoe\\n_proceeds</th>\n",
       "      <th>type</th>\n",
       "      <th>pe_sellers</th>\n",
       "      <th>pricing</th>\n",
       "      <th>dilution_\\nfloat</th>\n",
       "      <th>dilution_so</th>\n",
       "      <th>volume_avg_3m</th>\n",
       "      <th>deal_size_vs_adv</th>\n",
       "      <th>eqy_float</th>\n",
       "      <th>eqy_sh_out</th>\n",
       "      <th>short_int</th>\n",
       "      <th>dtc</th>\n",
       "      <th>si_percent_equity_float</th>\n",
       "      <th>beta</th>\n",
       "      <th>cur_mkt_cap</th>\n",
       "      <th>curr_entp_val</th>\n",
       "      <th>median_pt</th>\n",
       "      <th>pt_vs_launch_px</th>\n",
       "      <th>px_official_close</th>\n",
       "      <th>px_open</th>\n",
       "      <th>last_price</th>\n",
       "      <th>gap_%</th>\n",
       "      <th>chg_pct_5d</th>\n",
       "      <th>chg_pct_1m</th>\n",
       "      <th>change_from_ap</th>\n",
       "      <th>px_disc_from_launch</th>\n",
       "      <th>px_disc_from_open</th>\n",
       "      <th>trade_date</th>\n",
       "      <th>pricing_day_close</th>\n",
       "      <th>subscription\\n_multiple_</th>\n",
       "      <th>mkting_vwap</th>\n",
       "      <th>pre_open\\n_volume</th>\n",
       "      <th>pre_open_volume\\n_%_of_deal</th>\n",
       "      <th>td_open</th>\n",
       "      <th>td_open_\\n\\nvs_deal</th>\n",
       "      <th>td_open_vs_\\npd_close</th>\n",
       "      <th>open_print_%</th>\n",
       "      <th>td_low_px</th>\n",
       "      <th>td_low_px_\\nvs_deal</th>\n",
       "      <th>break</th>\n",
       "      <th>td_close</th>\n",
       "      <th>td_close\\n\\nvs_deal</th>\n",
       "      <th>td_close_\\nvs\\npd_close</th>\n",
       "      <th>td_close\\n_\\nvs_td_open</th>\n",
       "      <th>td_vwap_\\nvs_deal</th>\n",
       "      <th>td_volume_\\nmkt_hours</th>\n",
       "      <th>mkt_hours_volume_\\n%_of_deal</th>\n",
       "      <th>td_total_volume</th>\n",
       "      <th>td_volume_as_\\n%_of_priced_shares</th>\n",
       "    </tr>\n",
       "  </thead>\n",
       "  <tbody>\n",
       "    <tr>\n",
       "      <th>0</th>\n",
       "      <td>CHMI US Equity</td>\n",
       "      <td>UN Equity</td>\n",
       "      <td>CHMI UN Equity</td>\n",
       "      <td>CHERRY HILL MORT</td>\n",
       "      <td>Financial</td>\n",
       "      <td>REITS</td>\n",
       "      <td>Sec</td>\n",
       "      <td>post</td>\n",
       "      <td>3/22/2017</td>\n",
       "      <td>3/23/2017</td>\n",
       "      <td>3/23/2017</td>\n",
       "      <td>1.0</td>\n",
       "      <td>NaN</td>\n",
       "      <td>MS</td>\n",
       "      <td>UBS RBC KBW JMP CITI BARC FBR</td>\n",
       "      <td>0</td>\n",
       "      <td>4.5</td>\n",
       "      <td>4.5</td>\n",
       "      <td>no change</td>\n",
       "      <td>$74.25</td>\n",
       "      <td>$74.25</td>\n",
       "      <td>Primary</td>\n",
       "      <td>No</td>\n",
       "      <td>$16.50</td>\n",
       "      <td>69.81%</td>\n",
       "      <td>59.80%</td>\n",
       "      <td>155,088</td>\n",
       "      <td>29.02</td>\n",
       "      <td>6.45</td>\n",
       "      <td>12.03</td>\n",
       "      <td>39,429</td>\n",
       "      <td>0.25</td>\n",
       "      <td>0.61%</td>\n",
       "      <td>0.37</td>\n",
       "      <td>$138.62</td>\n",
       "      <td>$743.35</td>\n",
       "      <td>$19.25</td>\n",
       "      <td>5%</td>\n",
       "      <td>$18.42</td>\n",
       "      <td>$17.49</td>\n",
       "      <td>NaN</td>\n",
       "      <td>-5.05%</td>\n",
       "      <td>NaN</td>\n",
       "      <td>NaN</td>\n",
       "      <td>NaN</td>\n",
       "      <td>-10.42%</td>\n",
       "      <td>-5.66%</td>\n",
       "      <td>3/24/2017</td>\n",
       "      <td>$16.93</td>\n",
       "      <td>1</td>\n",
       "      <td>$17.18</td>\n",
       "      <td>938,853</td>\n",
       "      <td>20.86%</td>\n",
       "      <td>$16.42</td>\n",
       "      <td>-0.48%</td>\n",
       "      <td>-3.01%</td>\n",
       "      <td>NaN</td>\n",
       "      <td>$16.40</td>\n",
       "      <td>-0.61%</td>\n",
       "      <td>YES</td>\n",
       "      <td>$16.56</td>\n",
       "      <td>0.36%</td>\n",
       "      <td>-2.19%</td>\n",
       "      <td>0.85%</td>\n",
       "      <td>NaN</td>\n",
       "      <td>3,566,880</td>\n",
       "      <td>79.26%</td>\n",
       "      <td>4,505,733.00</td>\n",
       "      <td>100.10%</td>\n",
       "    </tr>\n",
       "  </tbody>\n",
       "</table>\n",
       "</div>"
      ],
      "text/plain": [
       "           symbol primary_exchange_ bbg_prim_exch_symbol        short_name  \\\n",
       "0  CHMI US Equity         UN Equity       CHMI UN Equity  CHERRY HILL MORT   \n",
       "\n",
       "  industry_sector industry_group offering_type pre/post launch_date  \\\n",
       "0       Financial          REITS           Sec     post   3/22/2017   \n",
       "\n",
       "     px_date start_date  book_build_\\ndays  uop left_lead  \\\n",
       "0  3/23/2017  3/23/2017                1.0  NaN        MS   \n",
       "\n",
       "                     active_book co-managers  anncd_shares  priced_shares  \\\n",
       "0  UBS RBC KBW JMP CITI BARC FBR           0           4.5            4.5   \n",
       "\n",
       "     upsize? anncd_proceeds pre_shoe\\n_proceeds     type pe_sellers  pricing  \\\n",
       "0  no change        $74.25              $74.25   Primary         No  $16.50    \n",
       "\n",
       "  dilution_\\nfloat dilution_so volume_avg_3m deal_size_vs_adv eqy_float  \\\n",
       "0           69.81%      59.80%       155,088            29.02      6.45   \n",
       "\n",
       "  eqy_sh_out short_int   dtc si_percent_equity_float  beta cur_mkt_cap  \\\n",
       "0      12.03    39,429  0.25                   0.61%  0.37    $138.62    \n",
       "\n",
       "  curr_entp_val median_pt pt_vs_launch_px px_official_close  px_open  \\\n",
       "0      $743.35    $19.25               5%           $18.42   $17.49    \n",
       "\n",
       "  last_price   gap_% chg_pct_5d chg_pct_1m change_from_ap px_disc_from_launch  \\\n",
       "0        NaN  -5.05%        NaN        NaN            NaN             -10.42%   \n",
       "\n",
       "  px_disc_from_open trade_date pricing_day_close subscription\\n_multiple_  \\\n",
       "0            -5.66%  3/24/2017           $16.93                         1   \n",
       "\n",
       "  mkting_vwap pre_open\\n_volume pre_open_volume\\n_%_of_deal  td_open  \\\n",
       "0     $17.18            938,853                      20.86%  $16.42    \n",
       "\n",
       "  td_open_\\n\\nvs_deal td_open_vs_\\npd_close open_print_% td_low_px  \\\n",
       "0              -0.48%                -3.01%          NaN   $16.40    \n",
       "\n",
       "  td_low_px_\\nvs_deal  break td_close td_close\\n\\nvs_deal  \\\n",
       "0              -0.61%   YES   $16.56                0.36%   \n",
       "\n",
       "  td_close_\\nvs\\npd_close td_close\\n_\\nvs_td_open td_vwap_\\nvs_deal  \\\n",
       "0                  -2.19%                   0.85%               NaN   \n",
       "\n",
       "  td_volume_\\nmkt_hours mkt_hours_volume_\\n%_of_deal td_total_volume  \\\n",
       "0             3,566,880                       79.26%    4,505,733.00   \n",
       "\n",
       "  td_volume_as_\\n%_of_priced_shares  \n",
       "0                           100.10%  "
      ]
     },
     "execution_count": 27,
     "metadata": {},
     "output_type": "execute_result"
    }
   ],
   "source": [
    "df.head(1)"
   ]
  },
  {
   "cell_type": "code",
   "execution_count": 28,
   "metadata": {},
   "outputs": [
    {
     "data": {
      "text/plain": [
       "(1178, 69)"
      ]
     },
     "execution_count": 28,
     "metadata": {},
     "output_type": "execute_result"
    }
   ],
   "source": [
    "df.shape"
   ]
  },
  {
   "cell_type": "code",
   "execution_count": 29,
   "metadata": {},
   "outputs": [
    {
     "data": {
      "text/plain": [
       "symbol                                 0\n",
       "primary_exchange_                      0\n",
       "bbg_prim_exch_symbol                   0\n",
       "short_name                             0\n",
       "industry_sector                        0\n",
       "                                    ... \n",
       "td_vwap_\\nvs_deal                    313\n",
       "td_volume_\\nmkt_hours                  0\n",
       "mkt_hours_volume_\\n%_of_deal           0\n",
       "td_total_volume                        0\n",
       "td_volume_as_\\n%_of_priced_shares      0\n",
       "Length: 69, dtype: int64"
      ]
     },
     "execution_count": 29,
     "metadata": {},
     "output_type": "execute_result"
    }
   ],
   "source": [
    "df.isnull().sum()"
   ]
  },
  {
   "cell_type": "markdown",
   "metadata": {},
   "source": [
    "#### Next steps:\n",
    "\n",
    "- drop unecesasry columns\n",
    "- bring in more fundamental and techincal data\\\n",
    "- add additional data\n",
    "- clean data types"
   ]
  },
  {
   "cell_type": "code",
   "execution_count": null,
   "metadata": {},
   "outputs": [],
   "source": []
  }
 ],
 "metadata": {
  "kernelspec": {
   "display_name": "Python 3",
   "language": "python",
   "name": "python3"
  },
  "language_info": {
   "codemirror_mode": {
    "name": "ipython",
    "version": 3
   },
   "file_extension": ".py",
   "mimetype": "text/x-python",
   "name": "python",
   "nbconvert_exporter": "python",
   "pygments_lexer": "ipython3",
   "version": "3.7.6"
  }
 },
 "nbformat": 4,
 "nbformat_minor": 4
}
